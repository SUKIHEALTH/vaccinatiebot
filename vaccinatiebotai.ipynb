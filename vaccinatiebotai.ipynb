{
 "cells": [
  {
   "cell_type": "markdown",
   "id": "75e2ef28-594f-4c18-9d22-c6b8cd40ead2",
   "metadata": {},
   "source": [
    "# Vaccinatie ChatBot Huisartspraktijk"
   ]
  },
  {
   "cell_type": "code",
   "execution_count": 1,
   "id": "70e39cd8-ec79-4e3e-9c26-5659d42d0861",
   "metadata": {},
   "outputs": [],
   "source": [
    "# imports\n",
    "\n",
    "import os\n",
    "from dotenv import load_dotenv\n",
    "from openai import OpenAI\n",
    "import gradio as gr"
   ]
  },
  {
   "cell_type": "code",
   "execution_count": 2,
   "id": "231605aa-fccb-447e-89cf-8b187444536a",
   "metadata": {},
   "outputs": [
    {
     "name": "stdout",
     "output_type": "stream",
     "text": [
      "OpenAI API Key exists and begins sk-proj-\n",
      "OpenRouter API Key (for Claude) exists and begins sk-or-v1\n",
      "Google API Key exists and begins AIzaSyDA\n"
     ]
    }
   ],
   "source": [
    "from dotenv import load_dotenv\n",
    "import os\n",
    "\n",
    "# Load .env variables and allow override if already set\n",
    "load_dotenv(override=True)\n",
    "\n",
    "# Load your keys\n",
    "openai_api_key = os.getenv('OPENAI_API_KEY')\n",
    "openrouter_api_key = os.getenv('OPENROUTER_API_KEY')  # this is used for Claude via OpenRouter\n",
    "google_api_key = os.getenv('GOOGLE_API_KEY')\n",
    "\n",
    "# Print summary for debugging\n",
    "if openai_api_key:\n",
    "    print(f\"OpenAI API Key exists and begins {openai_api_key[:8]}\")\n",
    "else:\n",
    "    print(\"OpenAI API Key not set\")\n",
    "\n",
    "if openrouter_api_key:\n",
    "    print(f\"OpenRouter API Key (for Claude) exists and begins {openrouter_api_key[:8]}\")\n",
    "else:\n",
    "    print(\"OpenRouter API Key not set\")\n",
    "\n",
    "if google_api_key:\n",
    "    print(f\"Google API Key exists and begins {google_api_key[:8]}\")\n",
    "else:\n",
    "    print(\"Google API Key not set\")\n"
   ]
  },
  {
   "cell_type": "code",
   "execution_count": 3,
   "id": "6541d58e-2297-4de1-b1f7-77da1b98b8bb",
   "metadata": {},
   "outputs": [],
   "source": [
    "# Initialize\n",
    "\n",
    "openai = OpenAI()\n",
    "MODEL = 'gpt-4o-mini'"
   ]
  },
  {
   "cell_type": "code",
   "execution_count": 4,
   "id": "bba01a0d-9198-4fce-aea4-8ddb6e5fa75f",
   "metadata": {},
   "outputs": [],
   "source": [
    "# === Multilingual system messages ===\n",
    "system_messages = {\n",
    "    \"NL\": (\n",
    "        \"Je bent een vriendelijke en informatieve assistent die alleen vragen beantwoordt over de griepprik en de pneumokokkenprik. \"\n",
    "        \"Je geeft duidelijke en begrijpelijke informatie over deze vaccinaties, zoals wie in aanmerking komt, wanneer de vaccinaties plaatsvinden, \"\n",
    "        \"mogelijke bijwerkingen en waarom de vaccinaties belangrijk zijn. \"\n",
    "        \"Als iemand een vraag stelt die niets met de griepprik of pneumokokkenprik te maken heeft, geef je geen antwoord en verwijs je de patiënt vriendelijk \"\n",
    "        \"door naar de huisarts of assistente. Gebruik een rustige en behulpzame toon. \"\n",
    "        \"Je doel is om patiënten goed te informeren zodat ze een weloverwogen keuze kunnen maken.\"\n",
    "    ),\n",
    "    \"EN\": (\n",
    "        \"You are a friendly and informative assistant who only answers questions about the flu shot and the pneumococcal vaccine. \"\n",
    "        \"You provide clear, understandable information about these vaccines, such as who qualifies, when they are given, possible side effects, and why they are important. \"\n",
    "        \"If someone asks about a different topic, politely inform them that you can only assist with questions about these two vaccines, and recommend they speak to their doctor or nurse.\"\n",
    "    )\n",
    "}"
   ]
  },
  {
   "cell_type": "code",
   "execution_count": 5,
   "id": "4b49f356-3d40-4aa1-90a5-91fbbf33b3e6",
   "metadata": {},
   "outputs": [],
   "source": [
    "# --- Chat function ---\n",
    "def chat(message, history, language):\n",
    "    full_messages = [{\"role\": \"system\", \"content\": system_messages[language]}] + history + [{\"role\": \"user\", \"content\": message}]\n",
    "    stream = openai.chat.completions.create(model=MODEL, messages=full_messages, stream=True)\n",
    "\n",
    "    collected = \"\"\n",
    "    for chunk in stream:\n",
    "        if chunk.choices[0].delta.content:\n",
    "            collected += chunk.choices[0].delta.content\n",
    "            yield {\"role\": \"assistant\", \"content\": collected}"
   ]
  },
  {
   "cell_type": "code",
   "execution_count": 6,
   "id": "3a075910-0447-4338-b61b-d074f625e659",
   "metadata": {},
   "outputs": [
    {
     "name": "stdout",
     "output_type": "stream",
     "text": [
      "* Running on local URL:  http://127.0.0.1:7860\n",
      "* To create a public link, set `share=True` in `launch()`.\n"
     ]
    },
    {
     "data": {
      "text/html": [
       "<div><iframe src=\"http://127.0.0.1:7860/\" width=\"100%\" height=\"500\" allow=\"autoplay; camera; microphone; clipboard-read; clipboard-write;\" frameborder=\"0\" allowfullscreen></iframe></div>"
      ],
      "text/plain": [
       "<IPython.core.display.HTML object>"
      ]
     },
     "metadata": {},
     "output_type": "display_data"
    },
    {
     "data": {
      "text/plain": []
     },
     "execution_count": 6,
     "metadata": {},
     "output_type": "execute_result"
    }
   ],
   "source": [
    "# --- Gradio UI ---\n",
    "chat_ui = gr.ChatInterface(\n",
    "    fn=chat,\n",
    "    additional_inputs=[gr.Radio([\"NL\", \"EN\"], value=\"NL\", label=\"Taal / Language\")],\n",
    "    title=\"💉 Vaccine Info Chatbot\",\n",
    "    description=\"Stel je vraag over de griepprik of pneumokokkenprik. Ask about the flu or pneumococcal vaccine.\",\n",
    "    theme=\"soft\",\n",
    "    type=\"messages\"\n",
    ")\n",
    "\n",
    "chat_ui.launch()"
   ]
  },
  {
   "cell_type": "code",
   "execution_count": null,
   "id": "a92193b9-59bf-46e5-a9db-81ee7b3aa250",
   "metadata": {},
   "outputs": [],
   "source": []
  }
 ],
 "metadata": {
  "kernelspec": {
   "display_name": "Python 3 (ipykernel)",
   "language": "python",
   "name": "python3"
  },
  "language_info": {
   "codemirror_mode": {
    "name": "ipython",
    "version": 3
   },
   "file_extension": ".py",
   "mimetype": "text/x-python",
   "name": "python",
   "nbconvert_exporter": "python",
   "pygments_lexer": "ipython3",
   "version": "3.11.12"
  }
 },
 "nbformat": 4,
 "nbformat_minor": 5
}
